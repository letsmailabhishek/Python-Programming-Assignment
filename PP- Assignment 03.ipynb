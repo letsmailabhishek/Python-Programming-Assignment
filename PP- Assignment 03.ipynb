{
 "cells": [
  {
   "cell_type": "code",
   "execution_count": null,
   "id": "80b368e0",
   "metadata": {},
   "outputs": [],
   "source": [
    "1. Write a Python Program to Check if a Number is Positive, Negative or Zero?"
   ]
  },
  {
   "cell_type": "code",
   "execution_count": 1,
   "id": "6b2b92e8",
   "metadata": {},
   "outputs": [
    {
     "name": "stdout",
     "output_type": "stream",
     "text": [
      "Enter the Number 4\n",
      "4 is a Positive Number\n"
     ]
    }
   ],
   "source": [
    "#ANS:\n",
    "a=int(input(\"Enter the Number \",))\n",
    "\n",
    "if a>0:\n",
    "    print(a,\"is a Positive Number\")\n",
    "elif a==0:\n",
    "    print(a,\"is Zero\")\n",
    "else:\n",
    "    print(a,\"is a Negative Number\")"
   ]
  },
  {
   "cell_type": "code",
   "execution_count": null,
   "id": "60b2b7b4",
   "metadata": {},
   "outputs": [],
   "source": [
    "2. Write a Python Program to Check if a Number is Odd or Even?"
   ]
  },
  {
   "cell_type": "code",
   "execution_count": 2,
   "id": "4f0ebc90",
   "metadata": {},
   "outputs": [
    {
     "name": "stdout",
     "output_type": "stream",
     "text": [
      "Enter the Number 45\n",
      "45 is a Odd Number\n"
     ]
    }
   ],
   "source": [
    "#ANS:\n",
    "a=int(input(\"Enter the Number \",))\n",
    "if a%2==0:\n",
    "    print(a,\"is a Even Number\")\n",
    "else:\n",
    "    print(a,\"is a Odd Number\")"
   ]
  },
  {
   "cell_type": "code",
   "execution_count": null,
   "id": "fa8bf8d8",
   "metadata": {},
   "outputs": [],
   "source": [
    "3. Write a Python Program to Check Leap Year?"
   ]
  },
  {
   "cell_type": "code",
   "execution_count": 3,
   "id": "bf72f49a",
   "metadata": {},
   "outputs": [
    {
     "name": "stdout",
     "output_type": "stream",
     "text": [
      "Enter the year 2023\n",
      "2023 is not a Leap Year\n"
     ]
    }
   ],
   "source": [
    "#ANS:\n",
    "a=int(input(\"Enter the year \",))\n",
    "\n",
    "if a%4==0 and a%100!=0:\n",
    "    print(a, \"is a Leap Year\")\n",
    "    \n",
    "elif a%400==0 and a%100==0:\n",
    "     print(a, \"is a Leap Year\")\n",
    "    \n",
    "else:\n",
    "    print(a, \"is not a Leap Year\")\n"
   ]
  },
  {
   "cell_type": "code",
   "execution_count": null,
   "id": "cd4073f5",
   "metadata": {},
   "outputs": [],
   "source": [
    "4. Write a Python Program to Check Prime Number?"
   ]
  },
  {
   "cell_type": "code",
   "execution_count": 4,
   "id": "a6883a06",
   "metadata": {},
   "outputs": [
    {
     "name": "stdout",
     "output_type": "stream",
     "text": [
      "Enter the Number 7\n",
      "7 is a prime number\n"
     ]
    }
   ],
   "source": [
    "#ANS:\n",
    "num=int(input('Enter the Number ',))\n",
    "flag = False\n",
    "\n",
    "# prime numbers are greater than 1\n",
    "if num > 1:\n",
    "    # check for factors\n",
    "    for i in range(2, num):\n",
    "        if (num % i) == 0:\n",
    "            # if factor is found, set flag to True\n",
    "            flag = True\n",
    "            # break out of loop\n",
    "            break\n",
    "\n",
    "# check if flag is True\n",
    "if flag:\n",
    "    print(num, \"is not a prime number\")\n",
    "else:\n",
    "    print(num, \"is a prime number\")\n",
    "        "
   ]
  },
  {
   "cell_type": "code",
   "execution_count": null,
   "id": "84142b38",
   "metadata": {},
   "outputs": [],
   "source": [
    "5. Write a Python Program to Print all Prime Numbers in an Interval of 1-10000?\n"
   ]
  },
  {
   "cell_type": "code",
   "execution_count": 6,
   "id": "53294a2a",
   "metadata": {},
   "outputs": [
    {
     "name": "stdout",
     "output_type": "stream",
     "text": [
      "20\n",
      "50\n",
      "The prime numbers between the ranges are\n",
      "23\n",
      "29\n",
      "31\n",
      "37\n",
      "41\n",
      "43\n",
      "47\n"
     ]
    }
   ],
   "source": [
    "#ANS:\n",
    "lower_value=int(input())\n",
    "higher_value=int(input())\n",
    "\n",
    "print(\"The prime numbers between the ranges are\")\n",
    "for i in range(lower_value,higher_value+1):\n",
    "    if i>1:\n",
    "        for j in range(2,i):\n",
    "            if i%j==0:\n",
    "                break\n",
    "        else:\n",
    "            print(i)\n"
   ]
  }
 ],
 "metadata": {
  "kernelspec": {
   "display_name": "Python 3 (ipykernel)",
   "language": "python",
   "name": "python3"
  },
  "language_info": {
   "codemirror_mode": {
    "name": "ipython",
    "version": 3
   },
   "file_extension": ".py",
   "mimetype": "text/x-python",
   "name": "python",
   "nbconvert_exporter": "python",
   "pygments_lexer": "ipython3",
   "version": "3.9.12"
  }
 },
 "nbformat": 4,
 "nbformat_minor": 5
}
