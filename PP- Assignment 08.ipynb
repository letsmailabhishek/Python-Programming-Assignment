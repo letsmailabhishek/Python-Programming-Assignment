{
 "cells": [
  {
   "cell_type": "markdown",
   "id": "45006016",
   "metadata": {},
   "source": [
    "1. Write a Python Program to Add Two Matrices?\n"
   ]
  },
  {
   "cell_type": "code",
   "execution_count": 1,
   "id": "2f189fba",
   "metadata": {},
   "outputs": [
    {
     "name": "stdout",
     "output_type": "stream",
     "text": [
      "[3, 5, 7]\n",
      "[8, 10, 15]\n",
      "[15, 15, 2]\n"
     ]
    }
   ],
   "source": [
    "a = [[2,3,4],\n",
    "    [5,6,7],\n",
    "    [8,9,0]]\n",
    "\n",
    "b = [[1,2,3],\n",
    "    [3,4,8],\n",
    "    [7,6,2]]\n",
    "\n",
    "result = [[0,0,0],\n",
    "         [0,0,0,],\n",
    "         [0,0,0,]]\n",
    "\n",
    "for i in range (len(a)):\n",
    "    for j in range(len(a[0])):\n",
    "        result[i][j] = a[i][j] + b[i][j]\n",
    "for r in result:\n",
    "    print(r)"
   ]
  },
  {
   "cell_type": "markdown",
   "id": "ab7720e2",
   "metadata": {},
   "source": [
    "\n",
    "Write a Python Program to Multiply Two Matrices?\n"
   ]
  },
  {
   "cell_type": "code",
   "execution_count": 3,
   "id": "ad3b0f48",
   "metadata": {},
   "outputs": [
    {
     "name": "stdout",
     "output_type": "stream",
     "text": [
      "[2, 6, 12]\n",
      "[15, 24, 56]\n",
      "[56, 54, 0]\n"
     ]
    }
   ],
   "source": [
    "a = [[2,3,4],\n",
    "    [5,6,7],\n",
    "    [8,9,0]]\n",
    "\n",
    "b = [[1,2,3],\n",
    "    [3,4,8],\n",
    "    [7,6,2]]\n",
    "\n",
    "result = [[0,0,0],\n",
    "         [0,0,0,],\n",
    "         [0,0,0,]]\n",
    "\n",
    "for i in range (len(a)):\n",
    "    for j in range(len(a[0])):\n",
    "        result[i][j] = a[i][j] * b[i][j]\n",
    "for r in result:\n",
    "    print(r)"
   ]
  },
  {
   "cell_type": "markdown",
   "id": "0d449b5d",
   "metadata": {},
   "source": [
    "3. Write a Python Program to Transpose a Matrix?\n"
   ]
  },
  {
   "cell_type": "code",
   "execution_count": 4,
   "id": "9d043b44",
   "metadata": {},
   "outputs": [
    {
     "name": "stdout",
     "output_type": "stream",
     "text": [
      "Result is \n",
      "1  2  3  4  \n",
      "2  2  3  4  \n",
      "3  3  3  4  \n",
      "4  4  4  4  \n"
     ]
    }
   ],
   "source": [
    "N = 4\n",
    "def transpose (A,B):\n",
    "    for i in range(N):\n",
    "        for j in range(N):\n",
    "            B[i][j] = A[j][i]\n",
    "        \n",
    "A = [[1,1,1,1],\n",
    "    [2,2,2,2],\n",
    "    [3,3,3,3],\n",
    "    [4,4,4,4]]\n",
    "\n",
    "B = A[:][:]\n",
    "\n",
    "transpose(A,B)\n",
    "print(\"Result is \")\n",
    "\n",
    "for i in range (N):\n",
    "    for j in range(N):\n",
    "        print(B[i][j], \" \", end = \"\")\n",
    "    print()"
   ]
  },
  {
   "cell_type": "markdown",
   "id": "7b7201f7",
   "metadata": {},
   "source": [
    "4. Write a Python Program to Sort Words in Alphabetic Order?\n"
   ]
  },
  {
   "cell_type": "code",
   "execution_count": 5,
   "id": "34cc501f",
   "metadata": {},
   "outputs": [
    {
     "name": "stdout",
     "output_type": "stream",
     "text": [
      "abhhmsu\n"
     ]
    }
   ],
   "source": [
    "def sortString(str):\n",
    "    return ''.join(sorted(str))\n",
    "      \n",
    "\n",
    "str = 'shubham'\n",
    "print(sortString(str))"
   ]
  },
  {
   "cell_type": "markdown",
   "id": "7c19c770",
   "metadata": {},
   "source": [
    "5. Write a Python Program to Remove Punctuation From a String?\n"
   ]
  },
  {
   "cell_type": "code",
   "execution_count": 6,
   "id": "d28b7186",
   "metadata": {},
   "outputs": [
    {
     "name": "stdout",
     "output_type": "stream",
     "text": [
      "The original string is : this is best, and better for everyone ! ;\n",
      "The string after punctuation filter : this is best and better for everyone  \n"
     ]
    }
   ],
   "source": [
    "test_str = \"this is best, and better for everyone ! ;\"\n",
    "\n",
    "print(\"The original string is : \" + test_str)\n",
    "\n",
    "punc = '''!()-[]{};:'\"\\,<>./?@#$%^&*_~'''\n",
    "\n",
    "for ele in test_str:\n",
    "    if ele in punc:\n",
    "        test_str = test_str.replace(ele, \"\")\n",
    "\n",
    "print(\"The string after punctuation filter : \" + test_str)"
   ]
  }
 ],
 "metadata": {
  "kernelspec": {
   "display_name": "Python 3 (ipykernel)",
   "language": "python",
   "name": "python3"
  },
  "language_info": {
   "codemirror_mode": {
    "name": "ipython",
    "version": 3
   },
   "file_extension": ".py",
   "mimetype": "text/x-python",
   "name": "python",
   "nbconvert_exporter": "python",
   "pygments_lexer": "ipython3",
   "version": "3.9.12"
  }
 },
 "nbformat": 4,
 "nbformat_minor": 5
}
