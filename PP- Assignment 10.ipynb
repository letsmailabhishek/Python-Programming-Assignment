{
 "cells": [
  {
   "cell_type": "markdown",
   "id": "0b313ba9",
   "metadata": {},
   "source": [
    "1.Write a Python program to find sum of elements in list?"
   ]
  },
  {
   "cell_type": "code",
   "execution_count": 1,
   "id": "8f198c51",
   "metadata": {},
   "outputs": [
    {
     "name": "stdout",
     "output_type": "stream",
     "text": [
      "The sum of all the elements in the list are 55\n"
     ]
    }
   ],
   "source": [
    "# Create your list\n",
    "l=[1,2,3,4,5,6,7,8,9,10]\n",
    "\n",
    "count=0\n",
    "for i in l:\n",
    "    count=count+i\n",
    "print('The sum of all the elements in the list are',count)\n"
   ]
  },
  {
   "cell_type": "markdown",
   "id": "fc05b7dd",
   "metadata": {},
   "source": [
    "2.Write a Python program to Multiply all numbers in the list?"
   ]
  },
  {
   "cell_type": "code",
   "execution_count": 2,
   "id": "dc4c8fea",
   "metadata": {},
   "outputs": [
    {
     "name": "stdout",
     "output_type": "stream",
     "text": [
      "3628800\n"
     ]
    }
   ],
   "source": [
    "# Create your list\n",
    "l=[1,2,3,4,5,6,7,8,9,10]\n",
    "count=1\n",
    "for i in l:\n",
    "    count=count*i\n",
    "print(count)\n"
   ]
  },
  {
   "cell_type": "markdown",
   "id": "0fd10cf2",
   "metadata": {},
   "source": [
    "3.Write a Python program to find smallest number in a list?"
   ]
  },
  {
   "cell_type": "code",
   "execution_count": 3,
   "id": "786f91bf",
   "metadata": {},
   "outputs": [
    {
     "name": "stdout",
     "output_type": "stream",
     "text": [
      "10\n"
     ]
    }
   ],
   "source": [
    "# Create your list\n",
    "l=[10,200,400]\n",
    "print(min(l))"
   ]
  },
  {
   "cell_type": "markdown",
   "id": "0e17e103",
   "metadata": {},
   "source": [
    "4.Write a Python program to find largest number in a list?"
   ]
  },
  {
   "cell_type": "code",
   "execution_count": 6,
   "id": "145061b2",
   "metadata": {},
   "outputs": [
    {
     "name": "stdout",
     "output_type": "stream",
     "text": [
      "400\n"
     ]
    }
   ],
   "source": [
    "# Create your list\n",
    "l=[10,200,400]\n",
    "print(max(l))\n"
   ]
  },
  {
   "cell_type": "markdown",
   "id": "c21d83b1",
   "metadata": {},
   "source": [
    "5.Write a Python program to find second largest number in a list?"
   ]
  },
  {
   "cell_type": "code",
   "execution_count": 7,
   "id": "38e210bf",
   "metadata": {},
   "outputs": [
    {
     "name": "stdout",
     "output_type": "stream",
     "text": [
      "The second largest element in this list is 18\n"
     ]
    }
   ],
   "source": [
    "# Create your list\n",
    "l=[10,20,18]\n",
    "l1=sorted(l)\n",
    "print('The second largest element in this list is',l1[1])\n"
   ]
  },
  {
   "cell_type": "markdown",
   "id": "b8cc65ae",
   "metadata": {},
   "source": [
    "6.Write a Python program to find N largest elements from a list?"
   ]
  },
  {
   "cell_type": "code",
   "execution_count": 8,
   "id": "1590649a",
   "metadata": {},
   "outputs": [
    {
     "name": "stdout",
     "output_type": "stream",
     "text": [
      "[298, 900, 1000, 3579]\n"
     ]
    }
   ],
   "source": [
    "# Create your list\n",
    "\n",
    "l = [1000,298,3579,100,200,-45,900]\n",
    "n = 4\n",
    "  \n",
    "l.sort()\n",
    "print(l[-n:])\n"
   ]
  },
  {
   "cell_type": "markdown",
   "id": "39a7f478",
   "metadata": {},
   "source": [
    "7.Write a Python program to print even numbers in a list?"
   ]
  },
  {
   "cell_type": "code",
   "execution_count": 9,
   "id": "d9cd8d92",
   "metadata": {},
   "outputs": [
    {
     "name": "stdout",
     "output_type": "stream",
     "text": [
      "Even Numbers are [2, 4, 6, 8, 10]\n"
     ]
    }
   ],
   "source": [
    "# Create your list\n",
    "\n",
    "l=[1,2,3,4,5,6,7,8,9,10]\n",
    "l1=[]\n",
    "for i in l:\n",
    "    if i%2==0:\n",
    "        l1.append(i)\n",
    "print(\"Even Numbers are\",l1)\n"
   ]
  },
  {
   "cell_type": "markdown",
   "id": "13d5356a",
   "metadata": {},
   "source": [
    "8.Write a Python program to print odd numbers in a List?\n"
   ]
  },
  {
   "cell_type": "code",
   "execution_count": 14,
   "id": "9d88f9c1",
   "metadata": {},
   "outputs": [
    {
     "name": "stdout",
     "output_type": "stream",
     "text": [
      "Odd Numbers are [1, 3, 5, 7, 9]\n"
     ]
    }
   ],
   "source": [
    "# Create your list\n",
    "\n",
    "l=[1,2,3,4,5,6,7,8,9,10]\n",
    "l1=[]\n",
    "for i in l:\n",
    "    if i%2!=0:\n",
    "        l1.append(i)\n",
    "print(\"Odd Numbers are\",l1)\n"
   ]
  },
  {
   "cell_type": "markdown",
   "id": "2f7fbdf8",
   "metadata": {},
   "source": [
    "9.Write a Python program to Remove empty List from List?\n"
   ]
  },
  {
   "cell_type": "code",
   "execution_count": 13,
   "id": "e8a2d26d",
   "metadata": {},
   "outputs": [
    {
     "data": {
      "text/plain": [
       "[1, 2, 3, 4, 5, 6, 7, 8, 9, 10]"
      ]
     },
     "execution_count": 13,
     "metadata": {},
     "output_type": "execute_result"
    }
   ],
   "source": [
    "# Using filter option\n",
    "\n",
    "l=[1,2,3,4,5,6,7,8,[],9,[],10]\n",
    "list(filter(None,l))"
   ]
  },
  {
   "cell_type": "markdown",
   "id": "4b158aca",
   "metadata": {},
   "source": [
    "10.Write a Python program to Cloning or Copying a list?\n"
   ]
  },
  {
   "cell_type": "code",
   "execution_count": 11,
   "id": "99eb0ff5",
   "metadata": {},
   "outputs": [
    {
     "name": "stdout",
     "output_type": "stream",
     "text": [
      "This is the original list [1, 2, 3, 4, 5, 6, 7, 8, 9, 10]\n",
      "This is the copied list [1, 2, 3, 4, 5, 6, 7, 8, 9, 10]\n"
     ]
    }
   ],
   "source": [
    "#ANS:\n",
    "l=[1,2,3,4,5,6,7,8,9,10]\n",
    "l1=l.copy()\n",
    "print('This is the original list',l)\n",
    "print('This is the copied list',l1)\n"
   ]
  },
  {
   "cell_type": "markdown",
   "id": "ddca6315",
   "metadata": {},
   "source": [
    "11.Write a Python program to Count occurrences of an element in a list?\n"
   ]
  },
  {
   "cell_type": "code",
   "execution_count": 12,
   "id": "2de8e2e1",
   "metadata": {},
   "outputs": [
    {
     "data": {
      "text/plain": [
       "(2, 'has appeared', 3, 'times in this list', [1, 2, 2, 2, 3, 5, 6])"
      ]
     },
     "execution_count": 12,
     "metadata": {},
     "output_type": "execute_result"
    }
   ],
   "source": [
    "# We can apply the count funtion\n",
    "\n",
    "def counta(x,y):\n",
    "    return (y ,'has appeared', x.count(y),'times in this list',x)\n",
    "\n",
    "# x is the list to be passed and y is the element to be counted\n",
    "in a list\n",
    "\n",
    "counta([1,2,2,2,3,5,6],2)\n"
   ]
  },
  {
   "cell_type": "code",
   "execution_count": null,
   "id": "eff93f21",
   "metadata": {},
   "outputs": [],
   "source": []
  },
  {
   "cell_type": "code",
   "execution_count": null,
   "id": "7948388d",
   "metadata": {},
   "outputs": [],
   "source": []
  },
  {
   "cell_type": "code",
   "execution_count": null,
   "id": "5f7ba31f",
   "metadata": {},
   "outputs": [],
   "source": []
  }
 ],
 "metadata": {
  "kernelspec": {
   "display_name": "Python 3 (ipykernel)",
   "language": "python",
   "name": "python3"
  },
  "language_info": {
   "codemirror_mode": {
    "name": "ipython",
    "version": 3
   },
   "file_extension": ".py",
   "mimetype": "text/x-python",
   "name": "python",
   "nbconvert_exporter": "python",
   "pygments_lexer": "ipython3",
   "version": "3.9.12"
  }
 },
 "nbformat": 4,
 "nbformat_minor": 5
}
