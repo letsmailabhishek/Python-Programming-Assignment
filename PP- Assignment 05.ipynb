{
 "cells": [
  {
   "cell_type": "code",
   "execution_count": null,
   "id": "9ddcc54f",
   "metadata": {},
   "outputs": [],
   "source": [
    "1.Write a Python Program to Find LCM?"
   ]
  },
  {
   "cell_type": "code",
   "execution_count": 1,
   "id": "67dc05bc",
   "metadata": {},
   "outputs": [
    {
     "name": "stdout",
     "output_type": "stream",
     "text": [
      "The LCM  of given numbers are 216\n"
     ]
    }
   ],
   "source": [
    "#ANS:\n",
    "#To finf the LCM of two numbers:\n",
    "def calcu_lcm(x,y):\n",
    "    if x>y:\n",
    "        greater=x\n",
    "    else:\n",
    "        greater=y\n",
    "    while (True):\n",
    "        if greater%x==0 and greater%y==0:\n",
    "            lcm=greater\n",
    "            break\n",
    "        greater+=1\n",
    "    return lcm\n",
    "a=54\n",
    "b=24\n",
    "print(\"The LCM  of given numbers are\",calcu_lcm(a,b))\n"
   ]
  },
  {
   "cell_type": "code",
   "execution_count": null,
   "id": "cdcb88c2",
   "metadata": {},
   "outputs": [],
   "source": [
    "2.Write a Python Program to Find HCF?"
   ]
  },
  {
   "cell_type": "code",
   "execution_count": 3,
   "id": "33012730",
   "metadata": {},
   "outputs": [
    {
     "name": "stdout",
     "output_type": "stream",
     "text": [
      "Enter first number: 100\n",
      "Enter second number: 300\n",
      "The H.C.F. of 100 and 300 is 100\n"
     ]
    }
   ],
   "source": [
    "#ANS:\n",
    "#To finf the HCF of two numbers:\n",
    "def calculate_hcf(x, y):  \n",
    "    # selecting the smaller number  \n",
    "    if x > y:  \n",
    "        smaller = y  \n",
    "    else:  \n",
    "        smaller = x  \n",
    "    for i in range(1,smaller + 1):  \n",
    "        if((x % i == 0) and (y % i == 0)):  \n",
    "            hcf = i  \n",
    "    return hcf  \n",
    "  \n",
    "# taking input from users  \n",
    "num1 = int(input(\"Enter first number: \"))  \n",
    "num2 = int(input(\"Enter second number: \"))  \n",
    "# printing the result for the users  \n",
    "print(\"The H.C.F. of\", num1,\"and\", num2,\"is\", calculate_hcf(num1, num2))  "
   ]
  },
  {
   "cell_type": "code",
   "execution_count": null,
   "id": "61a4b426",
   "metadata": {},
   "outputs": [],
   "source": [
    "3.Write a Python Program to Convert Decimal to Binary, Octal and Hexadecimal?\n"
   ]
  },
  {
   "cell_type": "code",
   "execution_count": 4,
   "id": "27fc59fa",
   "metadata": {},
   "outputs": [
    {
     "name": "stdout",
     "output_type": "stream",
     "text": [
      "The binary of  given Decimal number   15 is 0b1111\n",
      "The Octal of given Decimal number  15 is 0o17\n",
      "The Hexadeciaml of given Decimal number  15 is 0xf\n"
     ]
    }
   ],
   "source": [
    "#ANS:\n",
    "a=15\n",
    "#To convert Decimal to Binary\n",
    "b=bin(a)\n",
    "print(\"The binary of  given Decimal number  \",a, \"is\",b)\n",
    "#To convert Decimal to Octal\n",
    "c=oct(a)\n",
    "print(\"The Octal of given Decimal number \",a, \"is\",c)\n",
    "#To convert Decimal to Hexadecimal\n",
    "d=hex(a)\n",
    "print(\"The Hexadeciaml of given Decimal number \",a, \"is\",d)\n"
   ]
  },
  {
   "cell_type": "code",
   "execution_count": null,
   "id": "f73ec3a0",
   "metadata": {},
   "outputs": [],
   "source": [
    "4.Write a Python Program To Find ASCII value of a character?"
   ]
  },
  {
   "cell_type": "code",
   "execution_count": 10,
   "id": "1c6c15a3",
   "metadata": {},
   "outputs": [
    {
     "name": "stdout",
     "output_type": "stream",
     "text": [
      "Enter the character  l\n",
      "The ASCII value of l is 108\n"
     ]
    }
   ],
   "source": [
    "#ANS:\n",
    "f=input(\"Enter the character  \",)\n",
    "print(\"The ASCII value of\",f,\"is\",ord(f))"
   ]
  },
  {
   "cell_type": "code",
   "execution_count": null,
   "id": "6d1a0ed7",
   "metadata": {},
   "outputs": [],
   "source": [
    "5. Write a Python Program to Make a Simple Calculator with 4 basic mathematical operations?"
   ]
  },
  {
   "cell_type": "code",
   "execution_count": 11,
   "id": "9dd81ae4",
   "metadata": {},
   "outputs": [
    {
     "name": "stdout",
     "output_type": "stream",
     "text": [
      "My calculator can do the followings\n",
      "a.Addition\n",
      "b.Substraction\n",
      "c.division\n",
      "d.multiplication\n",
      "Please select the operation to perform (a/b/c/d) : a\n",
      "34\n",
      "45\n",
      "34 + 45 = 79\n"
     ]
    }
   ],
   "source": [
    "#Lets define the funtions for arithmetic operations.\n",
    "def add(a,b):\n",
    "    return a+b\n",
    "def sub(a,b):\n",
    "    return a-b\n",
    "def div(a,b):\n",
    "    return a/b\n",
    "def mult(a,b):\n",
    "    return a*b\n",
    "\n",
    "print(\"My calculator can do the followings\")\n",
    "print(\"a.Addition\")\n",
    "print(\"b.Substraction\")\n",
    "print(\"c.division\")\n",
    "print(\"d.multiplication\")\n",
    "\n",
    "choice=input(\"Please select the operation to perform (a/b/c/d) : \",)\n",
    "c=int(input())\n",
    "d=int(input())\n",
    "if choice=='a':\n",
    "    print(c,\"+\",d,'=',add(c,d))\n",
    "elif choice=='b':\n",
    "    print(c,\"-\",d,'=',sub(c,d))\n",
    "elif choice=='c':\n",
    "    print(c,\"/\",d,'=',div(c,d))\n",
    "elif choice=='d':\n",
    "    print(c,\"*\",d,'=',mult(c,d))\n",
    "\n",
    "else:\n",
    "    print(\"Enter the valid input\")\n"
   ]
  }
 ],
 "metadata": {
  "kernelspec": {
   "display_name": "Python 3 (ipykernel)",
   "language": "python",
   "name": "python3"
  },
  "language_info": {
   "codemirror_mode": {
    "name": "ipython",
    "version": 3
   },
   "file_extension": ".py",
   "mimetype": "text/x-python",
   "name": "python",
   "nbconvert_exporter": "python",
   "pygments_lexer": "ipython3",
   "version": "3.9.12"
  }
 },
 "nbformat": 4,
 "nbformat_minor": 5
}
