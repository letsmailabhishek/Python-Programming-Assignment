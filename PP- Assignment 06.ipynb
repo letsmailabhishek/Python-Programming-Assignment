{
 "cells": [
  {
   "cell_type": "code",
   "execution_count": null,
   "id": "0ac64697",
   "metadata": {},
   "outputs": [],
   "source": [
    "1. Write a Python Program to Display Fibonacci Sequence Using Recursion?"
   ]
  },
  {
   "cell_type": "code",
   "execution_count": 1,
   "id": "70a28724",
   "metadata": {},
   "outputs": [
    {
     "name": "stdout",
     "output_type": "stream",
     "text": [
      "Enter the value to print 7\n",
      "0\n",
      "1\n",
      "1\n",
      "2\n",
      "3\n",
      "5\n",
      "8\n"
     ]
    }
   ],
   "source": [
    "#ANS:\n",
    "def Fib(n):\n",
    "    if n<=1:\n",
    "        return n\n",
    "    else:\n",
    "        return (Fib(n-1)+Fib(n-2))\n",
    "nterms=int(input(\"Enter the value to print \"))\n",
    "if nterms<=0:\n",
    "    print('Enter the valid input ')\n",
    "for i in range(nterms):\n",
    "    print(Fib(i))"
   ]
  },
  {
   "cell_type": "code",
   "execution_count": null,
   "id": "df674fc8",
   "metadata": {},
   "outputs": [],
   "source": [
    "2. Write a Python Program to Find Factorial of Number Using Recursion?"
   ]
  },
  {
   "cell_type": "code",
   "execution_count": 2,
   "id": "b56490b5",
   "metadata": {},
   "outputs": [
    {
     "name": "stdout",
     "output_type": "stream",
     "text": [
      "Enter the number 7\n",
      "5040\n"
     ]
    }
   ],
   "source": [
    "def facx(n):\n",
    "    if n==1:\n",
    "        return n\n",
    "    else:\n",
    "        return (n*facx(n-1))\n",
    "a=int(input('Enter the number ',))\n",
    "if a<0:\n",
    "    print(\"Please enter the valid input\")\n",
    "elif a==0:\n",
    "    print(\"Factorial of \",a,\"is \" ,1)\n",
    "else:\n",
    "    print(facx(a))"
   ]
  },
  {
   "cell_type": "code",
   "execution_count": null,
   "id": "84b571c1",
   "metadata": {},
   "outputs": [],
   "source": [
    "3. Write a Python Program to calculate your Body Mass Index?"
   ]
  },
  {
   "cell_type": "code",
   "execution_count": 4,
   "id": "835d9635",
   "metadata": {},
   "outputs": [
    {
     "name": "stdout",
     "output_type": "stream",
     "text": [
      "Enter the weight of the Body 92\n",
      "Enter the height of the Body 1.75\n",
      "The Body Mass Index is  30.04\n"
     ]
    }
   ],
   "source": [
    "#ANS:\n",
    "#Lets define the weight and height of the Body.\n",
    "weight=float(input(\"Enter the weight of the Body \",))\n",
    "height=float(input(\"Enter the height of the Body \",))\n",
    "a=(weight/(height*height))\n",
    "b=round(a,2)\n",
    "print(\"The Body Mass Index is \",b)"
   ]
  },
  {
   "cell_type": "code",
   "execution_count": null,
   "id": "9bfdd2f5",
   "metadata": {},
   "outputs": [],
   "source": [
    "4. Write a Python Program to calculate the natural logarithm of any number?"
   ]
  },
  {
   "cell_type": "code",
   "execution_count": 5,
   "id": "8e2029ca",
   "metadata": {},
   "outputs": [
    {
     "name": "stdout",
     "output_type": "stream",
     "text": [
      "2.302585092994046\n"
     ]
    }
   ],
   "source": [
    "#ANS:\n",
    "import math\n",
    "print(math.log(10))\n"
   ]
  },
  {
   "cell_type": "code",
   "execution_count": null,
   "id": "7a299cb3",
   "metadata": {},
   "outputs": [],
   "source": [
    "5. Write a Python Program for cube sum of first n natural numbers?"
   ]
  },
  {
   "cell_type": "code",
   "execution_count": 7,
   "id": "da96fca5",
   "metadata": {},
   "outputs": [
    {
     "data": {
      "text/plain": [
       "784"
      ]
     },
     "execution_count": 7,
     "metadata": {},
     "output_type": "execute_result"
    }
   ],
   "source": [
    "#ANS:\n",
    "def cuben(n):\n",
    "    sum=0\n",
    "    for i in range(0,n+1):\n",
    "        sum=sum+i*i*i\n",
    "    return sum\n",
    "\n",
    "\n",
    "cuben(7)"
   ]
  }
 ],
 "metadata": {
  "kernelspec": {
   "display_name": "Python 3 (ipykernel)",
   "language": "python",
   "name": "python3"
  },
  "language_info": {
   "codemirror_mode": {
    "name": "ipython",
    "version": 3
   },
   "file_extension": ".py",
   "mimetype": "text/x-python",
   "name": "python",
   "nbconvert_exporter": "python",
   "pygments_lexer": "ipython3",
   "version": "3.9.12"
  }
 },
 "nbformat": 4,
 "nbformat_minor": 5
}
