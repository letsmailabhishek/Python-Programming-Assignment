{
 "cells": [
  {
   "cell_type": "markdown",
   "id": "3025d939",
   "metadata": {},
   "source": [
    "#Question1\n",
    "Create a function that takes three parameters where:\n",
    " x is the start of the range (inclusive).\n",
    " y is the end of the range (inclusive).\n",
    " n is the divisor to be checked against.\n",
    "Return an ordered list with numbers in the range that are divisible by the third parameter n.\n",
    "Return an empty list if there are no numbers that are divisible by n.\n",
    "Examples\n",
    "list_operation(1, 10, 3) ➞ [3, 6, 9]\n",
    "list_operation(7, 9, 2) ➞ [8]\n",
    "list_operation(15, 20, 7) ➞ []"
   ]
  },
  {
   "cell_type": "code",
   "execution_count": 4,
   "id": "d8a0c2d9",
   "metadata": {},
   "outputs": [],
   "source": [
    "#ANS:\n",
    "#we can use the following function to acheive the target.\n",
    "def func(x,y,n):\n",
    "    l1=[]\n",
    "    for i in range(x,y):\n",
    "        if i%n==0:\n",
    "            l1.append(i)\n",
    "    return l1\n",
    "\n",
    "\n",
    "# we have achieved the result as shown below.    "
   ]
  },
  {
   "cell_type": "code",
   "execution_count": 5,
   "id": "ec1dcf26",
   "metadata": {},
   "outputs": [
    {
     "data": {
      "text/plain": [
       "[3, 6, 9]"
      ]
     },
     "execution_count": 5,
     "metadata": {},
     "output_type": "execute_result"
    }
   ],
   "source": [
    "func(1,10,3)"
   ]
  },
  {
   "cell_type": "code",
   "execution_count": 6,
   "id": "8e2cf5cd",
   "metadata": {},
   "outputs": [
    {
     "data": {
      "text/plain": [
       "[8]"
      ]
     },
     "execution_count": 6,
     "metadata": {},
     "output_type": "execute_result"
    }
   ],
   "source": [
    "func(7,9,2)"
   ]
  },
  {
   "cell_type": "code",
   "execution_count": 7,
   "id": "7a2cdd2e",
   "metadata": {},
   "outputs": [
    {
     "data": {
      "text/plain": [
       "[]"
      ]
     },
     "execution_count": 7,
     "metadata": {},
     "output_type": "execute_result"
    }
   ],
   "source": [
    "func(15,20,7)"
   ]
  },
  {
   "cell_type": "markdown",
   "id": "f90432e5",
   "metadata": {},
   "source": [
    "#Question2\n",
    "Create a function that takes in two lists and returns True if the second list follows the first list\n",
    "by one element, and False otherwise. In other words, determine if the second list is the first\n",
    "list shifted to the right by 1.\n",
    "Examples\n",
    "simon_says([1, 2], [5, 1]) ➞ True\n",
    "simon_says([1, 2], [5, 5]) ➞ False\n",
    "simon_says([1, 2, 3, 4, 5], [0, 1, 2, 3, 4]) ➞ True\n",
    "simon_says([1, 2, 3, 4, 5], [5, 5, 1, 2, 3]) ➞ False\n",
    "Notes\n",
    " Both input lists will be of the same length, and will have a minimum length of 2.\n",
    " The values of the 0-indexed element in the second list and the n-1th indexed element\n",
    "in the first list do not matter.\n"
   ]
  },
  {
   "cell_type": "code",
   "execution_count": 8,
   "id": "79e84bbb",
   "metadata": {},
   "outputs": [],
   "source": [
    "#ANS:\n",
    "# we can achieve this using.\n",
    "def func2(l1,l2):\n",
    "    if l1[0]==l2[1]:\n",
    "        return True\n",
    "    else:\n",
    "        return False\n",
    "    \n",
    "    \n",
    "# we have achieved the result as shown below."
   ]
  },
  {
   "cell_type": "code",
   "execution_count": 9,
   "id": "18dee16c",
   "metadata": {},
   "outputs": [
    {
     "data": {
      "text/plain": [
       "True"
      ]
     },
     "execution_count": 9,
     "metadata": {},
     "output_type": "execute_result"
    }
   ],
   "source": [
    "func2([1,2],[5,1])"
   ]
  },
  {
   "cell_type": "code",
   "execution_count": 10,
   "id": "8541dcad",
   "metadata": {},
   "outputs": [
    {
     "data": {
      "text/plain": [
       "False"
      ]
     },
     "execution_count": 10,
     "metadata": {},
     "output_type": "execute_result"
    }
   ],
   "source": [
    "func2([1,2,3,4,5],[5,5,1,2,3])"
   ]
  },
  {
   "cell_type": "markdown",
   "id": "b3494332",
   "metadata": {},
   "source": [
    "Question3\n",
    "A group of friends have decided to start a secret society. The name will be the first letter of\n",
    "each of their names, sorted in alphabetical order.\n",
    "Create a function that takes in a list of names and returns the name of the secret society.\n",
    "Examples\n",
    "society_name([\"Adam\", \"Sarah\", \"Malcolm\"]) ➞ \"AMS\"\n",
    "society_name([\"Harry\", \"Newt\", \"Luna\", \"Cho\"]) ➞ \"CHLN\"\n",
    "society_name([\"Phoebe\", \"Chandler\", \"Rachel\", \"Ross\", \"Monica\", \"Joey\"])\n"
   ]
  },
  {
   "cell_type": "code",
   "execution_count": 11,
   "id": "c1387481",
   "metadata": {},
   "outputs": [],
   "source": [
    "# The below shows the result.\n",
    "def func3(a):\n",
    "    l=[]\n",
    "    l2=''\n",
    "    l.append(a[0][0])\n",
    "    l.append(a[1][0])\n",
    "    l.append(a[2][0])\n",
    "    l.append(a[3][0])\n",
    "    l.append(a[4][0])\n",
    "    l.append(a[5][0])\n",
    "    for i in l:\n",
    "        l2=l2+i\n",
    "    return l2\n",
    "        "
   ]
  },
  {
   "cell_type": "code",
   "execution_count": 12,
   "id": "711a4f9e",
   "metadata": {},
   "outputs": [
    {
     "data": {
      "text/plain": [
       "'PCRRMJ'"
      ]
     },
     "execution_count": 12,
     "metadata": {},
     "output_type": "execute_result"
    }
   ],
   "source": [
    "func3([\"Phoebe\", \"Chandler\", \"Rachel\", \"Ross\", \"Monica\", \"Joey\"])"
   ]
  },
  {
   "cell_type": "markdown",
   "id": "63d9964a",
   "metadata": {},
   "source": [
    "#Question4\n",
    "An isogram is a word that has no duplicate letters. Create a function that takes a string and\n",
    "returns either True or False depending on whether or not it's an \"isogram\".\n",
    "Examples\n",
    "is_isogram(\"Algorism\") ➞ True\n",
    "is_isogram(\"PasSword\") ➞ False\n",
    "\n",
    "# Not case sensitive.\n",
    "\n",
    "is_isogram(\"Consecutive\") ➞ False\n",
    "Notes\n",
    " Ignore letter case (should not be case sensitive).\n",
    " All test cases contain valid one word strings.\n"
   ]
  },
  {
   "cell_type": "code",
   "execution_count": 13,
   "id": "080622db",
   "metadata": {},
   "outputs": [],
   "source": [
    "#ANS:\n",
    "def func4(l):\n",
    "    return len(l)==len(set(l.lower()))\n",
    "\n",
    "\n",
    "# we have shown the result below."
   ]
  },
  {
   "cell_type": "code",
   "execution_count": 14,
   "id": "e84304b2",
   "metadata": {},
   "outputs": [
    {
     "data": {
      "text/plain": [
       "True"
      ]
     },
     "execution_count": 14,
     "metadata": {},
     "output_type": "execute_result"
    }
   ],
   "source": [
    "func4(\"Algorism\")"
   ]
  },
  {
   "cell_type": "code",
   "execution_count": 15,
   "id": "aaf674b1",
   "metadata": {},
   "outputs": [
    {
     "data": {
      "text/plain": [
       "False"
      ]
     },
     "execution_count": 15,
     "metadata": {},
     "output_type": "execute_result"
    }
   ],
   "source": [
    "func4(\"PasSword\")"
   ]
  },
  {
   "cell_type": "code",
   "execution_count": 16,
   "id": "6aa21fde",
   "metadata": {},
   "outputs": [
    {
     "data": {
      "text/plain": [
       "False"
      ]
     },
     "execution_count": 16,
     "metadata": {},
     "output_type": "execute_result"
    }
   ],
   "source": [
    "func4(\"consecutive\")"
   ]
  },
  {
   "cell_type": "markdown",
   "id": "230f57ea",
   "metadata": {},
   "source": [
    "#Question5\n",
    "Create a function that takes a string and returns True or False, depending on whether the\n",
    "characters are in order or not.\n",
    "Examples\n",
    "is_in_order(\"abc\") ➞ True\n",
    "is_in_order(\"edabit\") ➞ False\n",
    "is_in_order(\"123\") ➞ True\n",
    "is_in_order(\"xyzz\") ➞ True\n",
    "Notes\n",
    "You don't have to handle empty strings.\n"
   ]
  },
  {
   "cell_type": "code",
   "execution_count": 17,
   "id": "2a1af166",
   "metadata": {},
   "outputs": [],
   "source": [
    "#ANS:\n",
    "def func5(a):\n",
    "    l1=\"\"\n",
    "    for i in a:\n",
    "        l1=l1+i\n",
    "    c=sorted(l1)\n",
    "    str=\"\"\n",
    "    for i in c:\n",
    "        str+=i\n",
    "    if str==a:\n",
    "        print(\"True\")\n",
    "    else:\n",
    "        print(\"False\")\n",
    "    \n",
    "#We can achieve the result "
   ]
  },
  {
   "cell_type": "code",
   "execution_count": 18,
   "id": "b2054d68",
   "metadata": {},
   "outputs": [
    {
     "name": "stdout",
     "output_type": "stream",
     "text": [
      "True\n"
     ]
    }
   ],
   "source": [
    "func5(\"abc\")"
   ]
  },
  {
   "cell_type": "code",
   "execution_count": 19,
   "id": "40594791",
   "metadata": {},
   "outputs": [
    {
     "name": "stdout",
     "output_type": "stream",
     "text": [
      "False\n"
     ]
    }
   ],
   "source": [
    "func5(\"edabit\")"
   ]
  },
  {
   "cell_type": "code",
   "execution_count": 20,
   "id": "04e1b7bc",
   "metadata": {},
   "outputs": [
    {
     "name": "stdout",
     "output_type": "stream",
     "text": [
      "True\n"
     ]
    }
   ],
   "source": [
    "func5(\"123\")"
   ]
  },
  {
   "cell_type": "code",
   "execution_count": 21,
   "id": "5cd6d1f5",
   "metadata": {},
   "outputs": [
    {
     "name": "stdout",
     "output_type": "stream",
     "text": [
      "True\n"
     ]
    }
   ],
   "source": [
    "func5(\"xyzz\")"
   ]
  },
  {
   "cell_type": "code",
   "execution_count": null,
   "id": "7e93f55d",
   "metadata": {},
   "outputs": [],
   "source": []
  }
 ],
 "metadata": {
  "kernelspec": {
   "display_name": "Python 3 (ipykernel)",
   "language": "python",
   "name": "python3"
  },
  "language_info": {
   "codemirror_mode": {
    "name": "ipython",
    "version": 3
   },
   "file_extension": ".py",
   "mimetype": "text/x-python",
   "name": "python",
   "nbconvert_exporter": "python",
   "pygments_lexer": "ipython3",
   "version": "3.9.12"
  }
 },
 "nbformat": 4,
 "nbformat_minor": 5
}
