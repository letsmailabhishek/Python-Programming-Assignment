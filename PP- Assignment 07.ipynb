{
 "cells": [
  {
   "cell_type": "markdown",
   "id": "5a431b74",
   "metadata": {},
   "source": [
    "1. Write a Python Program to find sum of array?"
   ]
  },
  {
   "cell_type": "code",
   "execution_count": 1,
   "id": "e610bc99",
   "metadata": {},
   "outputs": [],
   "source": [
    "def sum1(arr):\n",
    "    sum = 0\n",
    "    \n",
    "    for i in arr:\n",
    "        sum = sum + i\n",
    "    return (sum)\n",
    "arr = []\n",
    "arr = [10,2,3,5]\n",
    "n = len(arr)\n",
    "soln = sum1(arr)"
   ]
  },
  {
   "cell_type": "code",
   "execution_count": 2,
   "id": "8d68bcd4",
   "metadata": {},
   "outputs": [
    {
     "data": {
      "text/plain": [
       "19"
      ]
     },
     "execution_count": 2,
     "metadata": {},
     "output_type": "execute_result"
    }
   ],
   "source": [
    "sum1([10,2,3,4])"
   ]
  },
  {
   "cell_type": "markdown",
   "id": "6ccda5f0",
   "metadata": {},
   "source": [
    "2. Write a Python Program to find largest element in an array?"
   ]
  },
  {
   "cell_type": "code",
   "execution_count": 3,
   "id": "1d8a7632",
   "metadata": {},
   "outputs": [
    {
     "name": "stdout",
     "output_type": "stream",
     "text": [
      "large array  1234567890\n"
     ]
    }
   ],
   "source": [
    "def largearray(arr,n):\n",
    "    max = arr[0]\n",
    "    for i in range(1,n):\n",
    "        if arr[i] > max:\n",
    "            max = arr[i]\n",
    "    return max\n",
    "\n",
    "arr = [10,23,5678,3456789,1234567890]\n",
    "n = len(arr)\n",
    "sol = largearray(arr,n)\n",
    "print('large array ', sol)"
   ]
  },
  {
   "cell_type": "markdown",
   "id": "b489741e",
   "metadata": {},
   "source": [
    "3. Write a Python Program for array rotation?"
   ]
  },
  {
   "cell_type": "code",
   "execution_count": 4,
   "id": "5f7bc40e",
   "metadata": {},
   "outputs": [
    {
     "name": "stdout",
     "output_type": "stream",
     "text": [
      "[3, 4, 5, 6, 7, 8, 9, 1, 2]\n"
     ]
    }
   ],
   "source": [
    "def rotation(arr,n,d):\n",
    "    temp = []\n",
    "    i = 0\n",
    "    while (i<d):\n",
    "        temp.append(arr[i])\n",
    "        i = i + 1\n",
    "    i = 0\n",
    "    while (d < n):\n",
    "        arr[i] = arr[d]\n",
    "        i = i + 1\n",
    "        d = d + 1\n",
    "    arr[:] = arr[: i] + temp\n",
    "    return arr\n",
    "\n",
    "arr = [1,2,3,4,5,6,7,8,9]\n",
    "print(rotation(arr,len(arr), 2))"
   ]
  },
  {
   "cell_type": "markdown",
   "id": "ccb7c84d",
   "metadata": {},
   "source": [
    "4. Write a Python Program to Split the array and add the first part to the end?\n"
   ]
  },
  {
   "cell_type": "code",
   "execution_count": 5,
   "id": "559e8b32",
   "metadata": {},
   "outputs": [
    {
     "name": "stdout",
     "output_type": "stream",
     "text": [
      "3 5 67 86 12 10 "
     ]
    }
   ],
   "source": [
    "def splitarray(a,n,k):\n",
    "    b = a[:k]\n",
    "    return(a[k::]+b[::])\n",
    "arr = [12,10,3,5,67,86]\n",
    "n = len(arr)\n",
    "position = 2\n",
    "arr = splitarray(arr,n,position)\n",
    "for i in range(0,n):\n",
    "    print(arr[i], end = ' ')"
   ]
  },
  {
   "cell_type": "markdown",
   "id": "c9ea8a15",
   "metadata": {},
   "source": [
    "5. Write a Python Program to check if given array is Monotonic?"
   ]
  },
  {
   "cell_type": "code",
   "execution_count": 6,
   "id": "09478d75",
   "metadata": {},
   "outputs": [
    {
     "name": "stdout",
     "output_type": "stream",
     "text": [
      "False\n"
     ]
    }
   ],
   "source": [
    "def Monotonic(a):\n",
    "    return (all(a[i] <= a[i+1] for i in range(len(a)-1)) or all(a[i]>=a[i+1] for i in range(len(a)-1)))\n",
    "\n",
    "a = [6,8,4,4]\n",
    "print(Monotonic(a))"
   ]
  }
 ],
 "metadata": {
  "kernelspec": {
   "display_name": "Python 3 (ipykernel)",
   "language": "python",
   "name": "python3"
  },
  "language_info": {
   "codemirror_mode": {
    "name": "ipython",
    "version": 3
   },
   "file_extension": ".py",
   "mimetype": "text/x-python",
   "name": "python",
   "nbconvert_exporter": "python",
   "pygments_lexer": "ipython3",
   "version": "3.9.12"
  }
 },
 "nbformat": 4,
 "nbformat_minor": 5
}
