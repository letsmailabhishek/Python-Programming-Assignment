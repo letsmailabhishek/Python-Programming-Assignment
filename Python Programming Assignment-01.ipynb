{
 "cells": [
  {
   "cell_type": "markdown",
   "id": "b2007c53",
   "metadata": {},
   "source": [
    "1. Write a Python program to print \"Hello Python\"\n",
    "\n"
   ]
  },
  {
   "cell_type": "code",
   "execution_count": 2,
   "id": "220ee44e",
   "metadata": {},
   "outputs": [
    {
     "name": "stdout",
     "output_type": "stream",
     "text": [
      "Hello Python\n"
     ]
    }
   ],
   "source": [
    "print(\"Hello Python\")\n"
   ]
  },
  {
   "cell_type": "markdown",
   "id": "20de1812",
   "metadata": {},
   "source": [
    "2. Write a Python program to do arithmetical operations addition and division.?\n"
   ]
  },
  {
   "cell_type": "code",
   "execution_count": 3,
   "id": "2edd2ecc",
   "metadata": {},
   "outputs": [
    {
     "name": "stdout",
     "output_type": "stream",
     "text": [
      "Enter the value  2\n",
      "Enter the value  4\n",
      "The sum of two Numbers are 6.0\n",
      "The difference between the two Numbers are -2.0\n",
      "The multiplaction of the given two Numbers are 8.0\n",
      "The division of given Numbers would be 0.5\n"
     ]
    }
   ],
   "source": [
    "a=float(input(\"Enter the value  \" ,))\n",
    "b=float(input(\"Enter the value  \" ,))\n",
    "\n",
    "#To perform addition operation\n",
    "c=a+b\n",
    "print(\"The sum of two Numbers are\",c)\n",
    "\n",
    "#To perform substraction operation\n",
    "d=a-b\n",
    "print(\"The difference between the two Numbers are\" ,d)\n",
    "      \n",
    "#To perform multiplication operation\n",
    "      \n",
    "e=a*b\n",
    "print(\"The multiplaction of the given two Numbers are\" ,e)\n",
    "\n",
    "#To perform division operation\n",
    "f=a/b\n",
    "print(\"The division of given Numbers would be\" ,f)"
   ]
  },
  {
   "cell_type": "markdown",
   "id": "54586d66",
   "metadata": {},
   "source": [
    "3. Write a Python program to find the area of a triangle?\n"
   ]
  },
  {
   "cell_type": "code",
   "execution_count": 7,
   "id": "04459e83",
   "metadata": {},
   "outputs": [
    {
     "name": "stdout",
     "output_type": "stream",
     "text": [
      "Enter the height of the Triangle 3\n",
      "Enter the base of the Triangle 6\n",
      "Area of the Triangle is  9.0\n"
     ]
    }
   ],
   "source": [
    "#ANS:\n",
    "a=float(input(\"Enter the height of the Triangle \", ))\n",
    "b=float(input(\"Enter the base of the Triangle \",  ))\n",
    "\n",
    "#To find out the Area of the Triangle\n",
    "m=0.5*a*b\n",
    "\n",
    "print(\"Area of the Triangle is \", m)\n",
    "\n"
   ]
  },
  {
   "cell_type": "markdown",
   "id": "301053ec",
   "metadata": {},
   "source": [
    "4. Write a Python program to swap two variables?\n"
   ]
  },
  {
   "cell_type": "code",
   "execution_count": 4,
   "id": "d1ccf4ca",
   "metadata": {},
   "outputs": [
    {
     "name": "stdout",
     "output_type": "stream",
     "text": [
      "Enter the value of 1st variable 3\n",
      "Enter the value of 2nd variable 5\n",
      "Values of the variables before swapping\n",
      "Value of a is  3.0\n",
      "Value of b is  5.0\n",
      "Values of the variables after swapping\n",
      "Value of a is  5.0\n",
      "Value of b is  3.0\n"
     ]
    }
   ],
   "source": [
    "#ANS:\n",
    "a=float(input(\"Enter the value of 1st variable \",))\n",
    "b=float(input(\"Enter the value of 2nd variable \",))\n",
    "\n",
    "#value of the variable before swapping\n",
    "print(\"Values of the variables before swapping\")\n",
    "print(\"Value of a is \",a)\n",
    "print(\"Value of b is \",b)\n",
    "\n",
    "\n",
    "#value of the variable after swapping\n",
    "a,b=b,a\n",
    "print(\"Values of the variables after swapping\")\n",
    "print(\"Value of a is \",a)\n",
    "print(\"Value of b is \",b)"
   ]
  },
  {
   "cell_type": "markdown",
   "id": "8d7af199",
   "metadata": {},
   "source": [
    "5. Write a Python program to generate a random number?\n"
   ]
  },
  {
   "cell_type": "code",
   "execution_count": 5,
   "id": "49404836",
   "metadata": {},
   "outputs": [
    {
     "name": "stdout",
     "output_type": "stream",
     "text": [
      "The random number is  61\n"
     ]
    }
   ],
   "source": [
    "#ANS:\n",
    "import random\n",
    "m=random.randint(0,100)\n",
    "print(\"The random number is \",m)"
   ]
  }
 ],
 "metadata": {
  "kernelspec": {
   "display_name": "Python 3 (ipykernel)",
   "language": "python",
   "name": "python3"
  },
  "language_info": {
   "codemirror_mode": {
    "name": "ipython",
    "version": 3
   },
   "file_extension": ".py",
   "mimetype": "text/x-python",
   "name": "python",
   "nbconvert_exporter": "python",
   "pygments_lexer": "ipython3",
   "version": "3.9.12"
  }
 },
 "nbformat": 4,
 "nbformat_minor": 5
}
